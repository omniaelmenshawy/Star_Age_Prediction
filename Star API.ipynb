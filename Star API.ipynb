{
 "cells": [
  {
   "cell_type": "code",
   "execution_count": null,
   "metadata": {},
   "outputs": [
    {
     "name": "stdout",
     "output_type": "stream",
     "text": [
      " * Serving Flask app \"__main__\" (lazy loading)\n",
      " * Environment: production\n",
      "\u001b[31m   WARNING: This is a development server. Do not use it in a production deployment.\u001b[0m\n",
      "\u001b[2m   Use a production WSGI server instead.\u001b[0m\n",
      " * Debug mode: on\n"
     ]
    },
    {
     "name": "stderr",
     "output_type": "stream",
     "text": [
      " * Running on http://127.0.0.1:5000/ (Press CTRL+C to quit)\n",
      "127.0.0.1 - - [03/Oct/2021 16:57:49] \"\u001b[37mGET / HTTP/1.1\u001b[0m\" 200 -\n",
      "127.0.0.1 - - [03/Oct/2021 16:58:06] \"\u001b[37mPOST /predict HTTP/1.1\u001b[0m\" 200 -\n"
     ]
    },
    {
     "name": "stdout",
     "output_type": "stream",
     "text": [
      "[[1.009, 21.624279, 2.240208e-09, 1.0, 1.0, 3.090127e+21, 33.639999]]\n"
     ]
    },
    {
     "name": "stderr",
     "output_type": "stream",
     "text": [
      "127.0.0.1 - - [03/Oct/2021 16:58:11] \"\u001b[37mPOST /predict HTTP/1.1\u001b[0m\" 200 -\n"
     ]
    },
    {
     "name": "stdout",
     "output_type": "stream",
     "text": [
      "[[1.009, 21.624279, 2.240208e-09, 1.0, 1.0, 3.090127e+21, 33.639999]]\n"
     ]
    },
    {
     "name": "stderr",
     "output_type": "stream",
     "text": [
      "127.0.0.1 - - [03/Oct/2021 16:58:45] \"\u001b[37mPOST /predict HTTP/1.1\u001b[0m\" 200 -\n"
     ]
    },
    {
     "name": "stdout",
     "output_type": "stream",
     "text": [
      "[[1.009, 21.624279, 2.240208e-09, 1.0, 1.0, 3.090127e+21, 33.639999]]\n"
     ]
    }
   ],
   "source": [
    "from flask import Flask,request,jsonify,render_template\n",
    "from Detection import BlackholeDetection\n",
    "import numpy as np\n",
    "\n",
    "\n",
    "tc  =  BlackholeDetection()\n",
    "app = Flask(__name__)\n",
    "\n",
    "\n",
    "@app.route(\"/\")\n",
    "def home():\n",
    "    #return render_template('home.html')\n",
    "    return \"\"\"\n",
    "<html>\n",
    "    <head>\n",
    "    <style>\n",
    "    body {background-color: #d5f4e6;}\n",
    "    \n",
    "    h1   {color: #2d3e50;\n",
    "    font-family: verdana;\n",
    "  font-size: 300%;}\n",
    "  p {\n",
    "  color: #034f84;\n",
    "  font-family: courier;\n",
    "  font-size: 160%;\n",
    "}\n",
    "    body    {color: #034f84;\n",
    "    border: 2px solid powderblue;\n",
    "  margin: 50px;\n",
    "  border: 5px solid #FFFF00;\n",
    "text-align: center;}\n",
    "</style>\n",
    "       <title><h1>Star Age Prediction</h1></title>\n",
    "     <h1>Star Age Prediction</h1>\n",
    "       <p>Enter the Star Data here 👇🏼</p>\n",
    "      \n",
    "    </head>\n",
    "    <body>\n",
    "        <form action=\"/predict\" method=\"POST\">\n",
    "         <input type=\"text\" name=\"B-V\" placeholder=\"B-V\" /><br>\n",
    "      \t<input type=\"text\" name=\"Amag\" placeholder=\"Amag\"  /><br>\n",
    "        <input type=\"text\" name=\"Luminosity\" placeholder=\"Luminosity\"/><br>\n",
    "        <input type=\"text\" name=\"GiantOrDwarf\" placeholder=\"GiantOrDwarf\" /><br>\n",
    "        <input type=\"text\" name=\"MainSeq\" placeholder=\"MainSeq\" /><br>\n",
    "        <input type=\"text\" name=\"Mass\" placeholder=\"Mass\"/><br>\n",
    "        <input type=\"text\" name=\"Plx\" placeholder=\"Plx\"  /><br>\n",
    "        \n",
    "        \n",
    "          \n",
    "          \n",
    "          <input type=\"submit\" value=\"Predict\">\n",
    "        </form>\n",
    "    </body>\n",
    "</html>\n",
    "\n",
    "\n",
    "    \n",
    "    \"\"\"\n",
    "    \n",
    "\n",
    "\n",
    "@app.route(\"/train\")\n",
    "def train():\n",
    "    tc.train()\n",
    "    res = {\n",
    "        'status_code':200,\n",
    "        'message':'model trained'\n",
    "    }\n",
    "    return jsonify(res)\n",
    "\n",
    "@app.route(\"/evaluate\")\n",
    "def evaluate():\n",
    "    res = {\n",
    "        'status_code':200,\n",
    "        'accuracy':tc.evaluate(),\n",
    "        'message':'good'\n",
    "    }\n",
    "    return jsonify(res)\n",
    "\n",
    "@app.route(\"/predict\",methods=['GET','POST'])\n",
    "def predict():\n",
    "    if request.method == 'POST':\n",
    "        \n",
    "        test = float(request.form['B-V'])\n",
    "        test3 = float(request.form['Amag'])\n",
    "        test4 = float(request.form['Luminosity'])\n",
    "        test5 = float(request.form['GiantOrDwarf'])\n",
    "        test6 = float(request.form['MainSeq'])\n",
    "        test7 = float(request.form['Mass'])\n",
    "        test8 = float(request.form['Plx'])\n",
    "        \n",
    "        test_array = [[test, test3, test4, test5, test6, test7, test8]]\n",
    "        print(test_array)\n",
    "\n",
    "       \n",
    "        \n",
    "    res = {\n",
    "        'status_code':200,\n",
    "        'Label':tc.predict(test_array)\n",
    "        \n",
    "    }\n",
    "    return jsonify(res)\n",
    "    \n",
    "\n",
    "\n",
    "#\n",
    "\n",
    "app.run(debug=True, use_debugger=False, use_reloader=False)"
   ]
  },
  {
   "cell_type": "code",
   "execution_count": 11,
   "metadata": {},
   "outputs": [],
   "source": [
    "import pickle\n",
    "import numpy as np # linear algebra\n",
    "import pandas as pd # data processing, CSV file I/O (e.g. pd.read_csv)\n",
    "import matplotlib.pyplot as plt\n",
    "import seaborn as sns\n",
    "import math\n",
    "import json\n",
    "from sklearn.neighbors import KNeighborsRegressor\n",
    "from sklearn.model_selection import train_test_split\n",
    "\n",
    "\n",
    "class BlackholeDetection:\n",
    "    def __init__(self):\n",
    "        \n",
    "        self.clf= KNeighborsRegressor(n_neighbors=10)\n",
    "        self.train()\n",
    "\n",
    "    def get_data(self):\n",
    "        self.df = pd.read_csv('//Users//omniaelmenshawy//Desktop/Detection2.csv')\n",
    "    \n",
    "        \n",
    "    def train(self):\n",
    "        self.get_data()\n",
    "        self.x = self.df[['B-V','Amag','Luminosity','GiantOrDwarf','MainSeq', 'Mass','Plx' ]]\n",
    "        self.y = self.df['LifeTime']\n",
    "        \n",
    "\n",
    "        self.x_train,self.x_test,self.y_train,self.y_test = train_test_split(self.x,self.y,test_size=0.2,random_state=42)\n",
    "        self.clf.fit(self.x_train,self.y_train)\n",
    "            \n",
    "    def evaluate(self):\n",
    "        return round(self.clf.score(self.x_test,self.y_test)*100,2)\n",
    "\n",
    "    \n",
    "    def predict(self,test):\n",
    "        r = self.clf.predict(test)[0]\n",
    "        return self.clf.predict(test)[0]"
   ]
  },
  {
   "cell_type": "code",
   "execution_count": 12,
   "metadata": {},
   "outputs": [],
   "source": [
    "tc = BlackholeDetection()"
   ]
  },
  {
   "cell_type": "code",
   "execution_count": 13,
   "metadata": {},
   "outputs": [],
   "source": [
    "tc.get_data()"
   ]
  },
  {
   "cell_type": "code",
   "execution_count": 14,
   "metadata": {},
   "outputs": [],
   "source": [
    "tc.train()"
   ]
  },
  {
   "cell_type": "code",
   "execution_count": 15,
   "metadata": {},
   "outputs": [
    {
     "data": {
      "text/plain": [
       "99.99"
      ]
     },
     "execution_count": 15,
     "metadata": {},
     "output_type": "execute_result"
    }
   ],
   "source": [
    "tc.evaluate()"
   ]
  },
  {
   "cell_type": "code",
   "execution_count": 16,
   "metadata": {},
   "outputs": [
    {
     "data": {
      "text/plain": [
       "4.225054038991046e+31"
      ]
     },
     "execution_count": 16,
     "metadata": {},
     "output_type": "execute_result"
    }
   ],
   "source": [
    "tc.predict([[1.009, 21.624279, 2.240208e-09, 1.0, 1.0, 3.090127e+21, 33.639999]])"
   ]
  },
  {
   "cell_type": "code",
   "execution_count": null,
   "metadata": {},
   "outputs": [],
   "source": []
  }
 ],
 "metadata": {
  "kernelspec": {
   "display_name": "Python 3",
   "language": "python",
   "name": "python3"
  },
  "language_info": {
   "codemirror_mode": {
    "name": "ipython",
    "version": 3
   },
   "file_extension": ".py",
   "mimetype": "text/x-python",
   "name": "python",
   "nbconvert_exporter": "python",
   "pygments_lexer": "ipython3",
   "version": "3.8.5"
  }
 },
 "nbformat": 4,
 "nbformat_minor": 4
}
