{
 "cells": [
  {
   "cell_type": "markdown",
   "metadata": {},
   "source": [
    "# The Age of A star is detirmined by its Mass, B-V, and Luminosity, and this is the new target of my data.\n",
    "# Also as a sperarate task, we will discover wether if any of our stars may turn into a blackhole or not.\n",
    "\n",
    "\n",
    "<img src=\"https://www.schoolsobservatory.org/sites/default/files/astro/starcycle.jpg\">\n",
    "\n",
    "# This data has some star feature like:\n",
    "- Visual Apparent Magnitude of the Star (Vmag)\n",
    "- Distance Between the Star and the Earth (Plx)\n",
    "- Standard Error of Plx (e_Plx)\n",
    "- B-V color index (B-V)\n",
    "- Spectral type (SpType)\n",
    "- Absolute Magnitude of the Star (Amag)\n",
    "# The real target which was published for this data was to spectral classification:\n",
    "\n",
    "<img src=\"https://astronomy.com/-/media/Images/Magazine%20Articles/2021/04/ScreenShot20210420at3.19.16PM.jpg?mw=600\">\n",
    "\n",
    "\n",
    "\n",
    "# here are some info about the features: \n",
    "- A hot star has a B-V color index close to 0 or negative, while a cool star has a B-V color index close to 2.0. Other stars are somewhere in between.\n",
    "- Cold  Star means its age is older\n",
    "\n",
    "- Dwarf (0) and Giant (1)\n",
    "- The more luminous an object, the smaller the numerical value of its absolute magnitude\n",
    "\n",
    "# To Understand the Relation between the feature, I will use a finely distrebuted data to understand the basic features, the I'll use the real dataset."
   ]
  },
  {
   "cell_type": "code",
   "execution_count": null,
   "metadata": {},
   "outputs": [],
   "source": [
    "import numpy as np # linear algebra\n",
    "import pandas as pd # data processing, CSV file I/O (e.g. pd.read_csv)\n",
    "import matplotlib.pyplot as plt\n",
    "import seaborn as sns\n",
    "from sklearn.naive_bayes import GaussianNB\n",
    "from sklearn.metrics import accuracy_score, classification_report, confusion_matrix, plot_confusion_matrix\n",
    "from sklearn.linear_model import LogisticRegression\n",
    "import plotly.express as px\n",
    "import plotly.graph_objects as go\n",
    "from dataprep.datasets import load_dataset\n",
    "from dataprep.eda import plot\n",
    "from dataprep.eda import plot_diff\n",
    "from dataprep.eda import plot_correlation\n",
    "from dataprep.eda import plot_missing\n",
    "import math"
   ]
  },
  {
   "cell_type": "markdown",
   "metadata": {},
   "source": [
    "# 1) The Example dataset:"
   ]
  },
  {
   "cell_type": "code",
   "execution_count": null,
   "metadata": {},
   "outputs": [],
   "source": [
    "df= pd.read_csv(\"//Users//omniaelmenshawy//Desktop///Star.csv\")"
   ]
  },
  {
   "cell_type": "code",
   "execution_count": null,
   "metadata": {},
   "outputs": [],
   "source": [
    "df.head(5)"
   ]
  },
  {
   "cell_type": "code",
   "execution_count": null,
   "metadata": {},
   "outputs": [],
   "source": [
    "df.describe().T.style.background_gradient(subset=['mean','std','50%','count'], cmap='PuBu')"
   ]
  },
  {
   "cell_type": "code",
   "execution_count": null,
   "metadata": {},
   "outputs": [],
   "source": [
    "df.corr()"
   ]
  },
  {
   "cell_type": "markdown",
   "metadata": {},
   "source": [
    "## Visualizing eah star by its name:"
   ]
  },
  {
   "cell_type": "code",
   "execution_count": null,
   "metadata": {},
   "outputs": [],
   "source": [
    "df['Type Names']= df['Star type']"
   ]
  },
  {
   "cell_type": "code",
   "execution_count": null,
   "metadata": {},
   "outputs": [],
   "source": [
    "df['Type Names'].replace(0  ,'Brown Dwarf',inplace=True)\n",
    "df['Type Names'].replace(1  ,'Red Dwarf',inplace=True)\n",
    "df['Type Names'].replace(2  ,'White Dwarf',inplace=True)\n",
    "df['Type Names'].replace(3  ,'Main Sequence',inplace=True)\n",
    "df['Type Names'].replace(4  ,'Supergiant',inplace=True)\n",
    "df['Type Names'].replace(5  ,'Hypergiant',inplace=True)"
   ]
  },
  {
   "cell_type": "markdown",
   "metadata": {},
   "source": [
    "## label Encoding for better Visualization:"
   ]
  },
  {
   "cell_type": "code",
   "execution_count": null,
   "metadata": {},
   "outputs": [],
   "source": [
    "df['color']= df['Star color']"
   ]
  },
  {
   "cell_type": "code",
   "execution_count": null,
   "metadata": {},
   "outputs": [],
   "source": [
    "df['Spectral']= df['Spectral Class']"
   ]
  },
  {
   "cell_type": "code",
   "execution_count": null,
   "metadata": {},
   "outputs": [],
   "source": [
    "from sklearn.preprocessing import LabelEncoder\n",
    "color_le = LabelEncoder()\n",
    "df['color'] = color_le.fit_transform(df.color)"
   ]
  },
  {
   "cell_type": "code",
   "execution_count": null,
   "metadata": {},
   "outputs": [],
   "source": [
    "color_le.classes_"
   ]
  },
  {
   "cell_type": "code",
   "execution_count": null,
   "metadata": {},
   "outputs": [],
   "source": [
    "Spectral_le = LabelEncoder()\n",
    "df['Spectral'] = Spectral_le.fit_transform(df.Spectral)"
   ]
  },
  {
   "cell_type": "code",
   "execution_count": null,
   "metadata": {},
   "outputs": [],
   "source": [
    "Spectral_le.classes_"
   ]
  },
  {
   "cell_type": "markdown",
   "metadata": {},
   "source": [
    "### Now we have:\n",
    "#### spectral  B = 1 , A = 0, O = 6, M= 5, K=4 , G= 3\n",
    "#### color Red = 10, Blue = 0, Blue white = 2"
   ]
  },
  {
   "cell_type": "code",
   "execution_count": null,
   "metadata": {},
   "outputs": [],
   "source": [
    "df.columns"
   ]
  },
  {
   "cell_type": "markdown",
   "metadata": {},
   "source": [
    "## Radius and Star type Relation:\n",
    "####  From the Below Observation we understand that Radius of each star typr has a huge difference in magnitude, for example, Hyper Giants has the biggest radius, which means that they are the biggest in mass also, while the dwarfs are the smallest stars existed.\n"
   ]
  },
  {
   "cell_type": "markdown",
   "metadata": {},
   "source": [
    "### Taking the radius as the size to detirmine the real difference in size:\n",
    "\n",
    "- Now we can observe the real difference.\n",
    "- The star gets larger, redder, and more luminous as it expands and cools"
   ]
  },
  {
   "cell_type": "code",
   "execution_count": null,
   "metadata": {
    "scrolled": true
   },
   "outputs": [],
   "source": [
    "fig = px.scatter(df,\n",
    "                 x=\"Star type\", y='Radius(R/Ro)', size=\"Radius(R/Ro)\", color=\"Type Names\",\n",
    "                  size_max=60,\n",
    "                 template='plotly_dark', title='Star Type vs radius as size')\n",
    "fig.show()"
   ]
  },
  {
   "cell_type": "markdown",
   "metadata": {},
   "source": [
    "## Spectral Class and its Tempreature:\n",
    "\n",
    "- we can clearly notice that classes which starts with M, K, and G are the lowest in Tempreature, and these are the classes which we are interested in as we are looking for old stars, as they are more likly to die soon."
   ]
  },
  {
   "cell_type": "code",
   "execution_count": null,
   "metadata": {},
   "outputs": [],
   "source": [
    "fig = px.bar(df, x = 'Spectral Class',color=\"Temperature (K)\",hover_name=\"Type Names\", template = 'plotly_dark', title='Spectral Type vs temperature')\n",
    "fig.show()"
   ]
  },
  {
   "cell_type": "markdown",
   "metadata": {},
   "source": [
    "## Hertzsprung-Russell Diagram: \n",
    "- In the Hertzprung-Russell diagram the temperatures of stars are plotted against their luminosities. The position of a star in the diagram provides information about its present stage and its mass. Stars that burn hydrogen into helium lie on the diagonal branch, the so-called main sequence.\n",
    "<img src=\"http://cdn.eso.org/images/screen/eso0728c.jpg\">"
   ]
  },
  {
   "cell_type": "markdown",
   "metadata": {},
   "source": [
    "## Luminosity vs. Surface Temperature in degrees to visualize the Hertzsprung-Russell Diagram:\n",
    "\n",
    "- Our data has a similar shape as the diagram as the supergiants and hypergiants ar in the top of the graph.\n",
    "- Other normal starsspends their lives in the main sequence.\n",
    "- Most of the dwarfsare in the bottom of the graphwith the lowest temperatures and luminosity."
   ]
  },
  {
   "cell_type": "code",
   "execution_count": null,
   "metadata": {},
   "outputs": [],
   "source": [
    "fig = px.scatter(df, x=\"Temperature (K)\", y=\"Luminosity(L/Lo)\", hover_name=\"Type Names\",\n",
    "                 color=\"Type Names\",log_x=True, log_y=True, template = 'plotly_dark', title='Luminosity vs. Surface Temperature ')\n",
    "fig.show()"
   ]
  },
  {
   "cell_type": "markdown",
   "metadata": {},
   "source": [
    "## Final conclusion from the example data:\n",
    "- we need the same features in the new data to deteirmine the location of each star in the HR diagram"
   ]
  },
  {
   "cell_type": "markdown",
   "metadata": {},
   "source": [
    "# The Real dataset:"
   ]
  },
  {
   "cell_type": "code",
   "execution_count": null,
   "metadata": {
    "scrolled": true
   },
   "outputs": [],
   "source": [
    "path = \"//Users//omniaelmenshawy//Desktop///Star39552_balanced.csv\"\n",
    "df = pd.read_csv(path)\n",
    "df.head(5)"
   ]
  },
  {
   "cell_type": "code",
   "execution_count": null,
   "metadata": {},
   "outputs": [],
   "source": [
    "df.describe().T"
   ]
  },
  {
   "cell_type": "markdown",
   "metadata": {},
   "source": [
    "## Converting Columns data type to float values"
   ]
  },
  {
   "cell_type": "code",
   "execution_count": null,
   "metadata": {},
   "outputs": [],
   "source": [
    "df[\"Vmag\"] = pd.to_numeric(df[\"Vmag\"], downcast=\"float\", errors='coerce')\n",
    "df[\"Plx\"] = pd.to_numeric(df[\"Plx\"], downcast=\"float\", errors='coerce')\n",
    "df[\"e_Plx\"] = pd.to_numeric(df[\"e_Plx\"], downcast=\"float\", errors='coerce')\n",
    "df[\"B-V\"] = pd.to_numeric(df[\"B-V\"], downcast=\"float\", errors='coerce')"
   ]
  },
  {
   "cell_type": "code",
   "execution_count": null,
   "metadata": {},
   "outputs": [],
   "source": []
  },
  {
   "cell_type": "markdown",
   "metadata": {},
   "source": [
    "## Data Report and feature visualization:"
   ]
  },
  {
   "cell_type": "code",
   "execution_count": null,
   "metadata": {
    "scrolled": true
   },
   "outputs": [],
   "source": [
    "from dataprep.eda import create_report\n",
    "report = create_report(df, title='My Report')"
   ]
  },
  {
   "cell_type": "code",
   "execution_count": null,
   "metadata": {},
   "outputs": [],
   "source": [
    "report"
   ]
  },
  {
   "cell_type": "markdown",
   "metadata": {},
   "source": [
    "## Reducing the error:"
   ]
  },
  {
   "cell_type": "code",
   "execution_count": null,
   "metadata": {},
   "outputs": [],
   "source": [
    "threshold = df['e_Plx'].mean() + 0.5\n",
    "\n",
    "df = df[df['e_Plx'] < threshold ]"
   ]
  },
  {
   "cell_type": "code",
   "execution_count": null,
   "metadata": {},
   "outputs": [],
   "source": [
    "error = df['e_Plx']"
   ]
  },
  {
   "cell_type": "code",
   "execution_count": null,
   "metadata": {},
   "outputs": [],
   "source": [
    "report = create_report(error, title='My Report')"
   ]
  },
  {
   "cell_type": "code",
   "execution_count": null,
   "metadata": {},
   "outputs": [],
   "source": [
    "report"
   ]
  },
  {
   "cell_type": "markdown",
   "metadata": {},
   "source": [
    "## Changing the target to a normal feature as it is not our intereset now:"
   ]
  },
  {
   "cell_type": "code",
   "execution_count": null,
   "metadata": {},
   "outputs": [],
   "source": [
    "df['GiantOrDwarf'] = df['TargetClass']"
   ]
  },
  {
   "cell_type": "markdown",
   "metadata": {},
   "source": [
    "## From kelvins to degrees:\n",
    "- C = K - 273.15"
   ]
  },
  {
   "cell_type": "code",
   "execution_count": null,
   "metadata": {},
   "outputs": [],
   "source": [
    "#df['Temp']= df['Temp']- 273.15"
   ]

  },
  {
   "cell_type": "markdown",
   "metadata": {},
   "source": [
    "## Calculating the Luminosity as L/Lo:\n",
    "\n",
    "- Absolute magnitude and luminosity are related with the formula\n",
    "\n",
    "### M = -2.5 * log₁₀(L / L₀)\n",
    "\n",
    "### where:\n",
    "\n",
    "- M is the absolute magnitude of the star;\n",
    "- L is its luminosity;\n",
    "- L₀ is the zero-point luminosity, equal to 3.0128 * 10²⁸ W."
   ]
  },
  {
   "cell_type": "code",
   "execution_count": null,
   "metadata": {},
   "outputs": [],
   "source": []
  },
  {
   "cell_type": "code",
   "execution_count": null,
   "metadata": {},
   "outputs": [],
   "source": [
    "df['Amag(arcsec)'] = df['Amag']*0.001"
   ]
  },
  {
   "cell_type": "code",
   "execution_count": null,
   "metadata": {},
   "outputs": [],
   "source": [
    "df['Amag(parsec)'] = df['Amag(arcsec)']*0.25"
   ]
  },
  {
   "cell_type": "markdown",
   "metadata": {},
   "source": [
    "a star with a mass greater than 20 times the mass of our Sun may ultimately become a black hole;\n",
    "V(orbit) = SQRT(GM/R) "
   ]
  },
  {
   "cell_type": "code",
   "execution_count": null,
   "metadata": {},
   "outputs": [],
   "source": [
    "df.describe().T"
   ]
  },
  {
   "cell_type": "markdown",
   "metadata": {},
   "source": [
    "# Is the Star Giant or Dwarf?"
   ]
  },
  {
   "cell_type": "code",
   "execution_count": null,
   "metadata": {},
   "outputs": [],
   "source": [
    "df['GiantOrDwarf'].value_counts()"
   ]
  },
  {
   "cell_type": "code",
   "execution_count": null,
   "metadata": {},
   "outputs": [],
   "source": [
    "colors_blue = [\"#132C33\", \"#264D58\", '#17869E', '#51C4D3', '#B4DBE9']\n",
    "colors_dark = [\"#1F1F1F\", \"#313131\", '#636363', '#AEAEAE', '#DADADA']"
   ]
  },
  {
   "cell_type": "code",
   "execution_count": null,
   "metadata": {
    "scrolled": true
   },
   "outputs": [],
   "source": [
    "df.shape"
   ]
  },
  {
   "cell_type": "code",
   "execution_count": null,
   "metadata": {},
   "outputs": [],
   "source": [
    "df.columns"
   ]
  },
  {
   "cell_type": "markdown",
   "metadata": {},
   "source": [
    "# Trying to understand Some feature Relations"
   ]
  },
  {
   "cell_type": "code",
   "execution_count": null,
   "metadata": {},
   "outputs": [],
   "source": [
    "fig = px.scatter(df, x=\"Temp\", y=\"Amag\",\n",
    "                 color=\"B-V\",log_x=True, log_y=True, template = 'plotly_dark', title= ' Amag Vs. Temp')\n",
    "fig.show()"
   ]
  },
  {
   "cell_type": "code",
   "execution_count": null,
   "metadata": {},
   "outputs": [],
   "source": []
  },
  {
   "cell_type": "markdown",
   "metadata": {},
   "source": []
  },
  {
   "cell_type": "markdown",
   "metadata": {},
   "source": [
    "# I need my stars to be in the main sequence to be able to calculate their Mass correctly as: \n",
    "<img src=\"http://www.astronomy.ohio-state.edu/~pogge/Ast162/Unit2/Images/MLrel_eqn.gif\">\n",
    "\n",
    "\n",
    "- Main sequence stars have a Morgan-Keenan luminosity class labelled V"
   ]
  },
  {
   "cell_type": "code",
   "execution_count": null,
   "metadata": {},
   "outputs": [],
   "source": [
    "def Main_Seq(row):\n",
    "    if row['GiantOrDwarf'] == 1 :\n",
    "        for i in range(len(df['SpType'])):\n",
    "            if \"V\" in df.loc[i,'SpType']:\n",
    "                return 1\n",
    "               \n",
    "    else:\n",
    "        return 0\n",
    "    "
   ]
  },

  {
   "cell_type": "code",
   "execution_count": null,
   "metadata": {},
   "outputs": [],
   "source": [
    "df['LifeTime'].value_counts()"
   ]
  },
  {
   "cell_type": "code",
   "execution_count": null,
   "metadata": {},
   "outputs": [],
   "source": [
    "df.columns"
   ]
  },
  {
   "cell_type": "code",
   "execution_count": null,
   "metadata": {},
   "outputs": [],
   "source": [
    "related = df[['Vmag','SpType', 'Luminosity', 'B-V', 'Mass','MainSeq', 'LifeTime']]"
   ]
  },
  {
   "cell_type": "code",
   "execution_count": null,
   "metadata": {},
   "outputs": [],
   "source": [
    "fig = px.scatter_matrix(related, color = 'LifeTime')\n",
    "fig.show()"
   ]
  },
  {
   "cell_type": "code",
   "execution_count": null,
   "metadata": {},
   "outputs": [],
   "source": [
    "related = df[['SpType', 'LifeTime']]\n",
    "fig = px.scatter_matrix(related, color = 'LifeTime')\n",
    "fig.show()"
   ]
  },
  {
   "cell_type": "code",
   "execution_count": null,
   "metadata": {},
   "outputs": [],
   "source": [
    "related = df[['MainSeq', 'LifeTime']]\n",
    "fig = px.scatter_matrix(related, color = 'LifeTime')\n",
    "fig.show()"
   ]
  },
  {
   "cell_type": "code",
   "execution_count": null,
   "metadata": {},
   "outputs": [],
   "source": [
    "df.columns"
   ]
  },
  {
   "cell_type": "code",
   "execution_count": null,
   "metadata": {},
   "outputs": [],
   "source": [
    "df['SpType'].value_counts()"
   ]
  },
  {
   "cell_type": "code",
   "execution_count": null,
   "metadata": {},
   "outputs": [],
   "source": []
  },
  {
   "cell_type": "code",
   "execution_count": null,
   "metadata": {},
   "outputs": [],
   "source": [
    "report = create_report(df, title='My Report')"
   ]
  },
  {
   "cell_type": "code",
   "execution_count": null,
   "metadata": {
    "scrolled": false
   },
   "outputs": [],
   "source": [
    "report"
   ]
  },
  {
   "cell_type": "code",
   "execution_count": null,
   "metadata": {},
   "outputs": [],
   "source": []
  },
  {
   "cell_type": "code",
   "execution_count": null,
   "metadata": {},
   "outputs": [],
   "source": [
    "pl.figure(figsize=(10,6))\n",
    "ax = sns.scatterplot(x='B-V',y='LifeTime',data=df,palette='magma',hue='MainSeq')\n",
    "ax.set_title('Scatter plot of LifeTime and B-V')\n",
    "\n",
    "sns.lmplot(x=\"SpType\", y=\"LifeTime\", hue=\"MainSeq\", data=df, palette = 'magma', size = 8)"
   ]
  },
  {
   "cell_type": "code",
   "execution_count": null,
   "metadata": {},
   "outputs": [],
   "source": []
  },
  {
   "cell_type": "code",
   "execution_count": null,
   "metadata": {},
   "outputs": [],
   "source": [
    "df.head()"
   ]
  },
  {
   "cell_type": "code",
   "execution_count": null,
   "metadata": {},
   "outputs": [],
   "source": [
    "y = df['LifeTime']\n",
    "\n",
    "# Select Featurestrai\n",
    "x= df[['B-V','Amag','Luminosity','GiantOrDwarf','MainSeq', 'Mass','E' ]]"
   ]
  },
  {
   "cell_type": "code",
   "execution_count": null,
   "metadata": {},
   "outputs": [],
   "source": [
    "x_train, x_test, y_train, y_test = train_test_split(x,y, test_size = 0.2, random_state = 42)"
   ]
  },
  {
   "cell_type": "code",
   "execution_count": null,
   "metadata": {},
   "outputs": [],
   "source": [
    "from sklearn.preprocessing import StandardScaler\n",
    "sc = StandardScaler()\n",
    "x_train = sc.fit_transform(x_train)\n",
    "x_test = sc.transform(x_test)"
   ]
  },
  {
   "cell_type": "code",
   "execution_count": null,
   "metadata": {},
   "outputs": [],
   "source": [
    "from sklearn.tree import DecisionTreeRegressor\n",
    "from sklearn.ensemble import RandomForestRegressor\n",
    "from sklearn.linear_model import LinearRegression\n",
    "from sklearn.neighbors import KNeighborsRegressor\n",
    "from sklearn.ensemble import AdaBoostRegressor\n",
    "from sklearn.ensemble import GradientBoostingRegressor\n",
    "from xgboost import XGBRegressor\n",
    "from catboost import CatBoostRegressor"
   ]
  },
  {
   "cell_type": "code",
   "execution_count": null,
   "metadata": {},
   "outputs": [],
   "source": [
    "lr = LinearRegression()\n",
    "\n",
    "knn = KNeighborsRegressor(n_neighbors=10)\n",
    "\n",
    "dt = DecisionTreeRegressor(max_depth = 3)\n",
    "\n",
    "rf = RandomForestRegressor(max_depth = 3, n_estimators=500)\n",
    "\n",
    "ada = AdaBoostRegressor( n_estimators=50, learning_rate =.01)\n",
    "\n",
    "gbr = GradientBoostingRegressor(max_depth=2, n_estimators=100, learning_rate =.2)\n",
    "\n",
    "xgb = XGBRegressor(max_depth = 3, n_estimators=50, learning_rate =.2)\n",
    "\n",
    "cb = CatBoostRegressor(learning_rate =.01, max_depth =5, verbose = 0)\n",
    "\n",
    "regressors = [('Linear Regression', lr), ('K Nearest Neighbours', knn),\n",
    "               ('Decision Tree', dt), ('Random Forest', rf), ('AdaBoost', ada),\n",
    "              ('Gradient Boosting Regressor', gbr), ('XGBoost', xgb), ('catboost', cb)]"
   ]
  },
  {
   "cell_type": "code",
   "execution_count": null,
   "metadata": {},
   "outputs": [],
   "source": [
    "from sklearn import metrics"
   ]
  },
  {
   "cell_type": "code",
   "execution_count": null,
   "metadata": {},
   "outputs": [],
   "source": []
  },
  {
   "cell_type": "code",
   "execution_count": null,
   "metadata": {},
   "outputs": [],
   "source": [
    "predictions = lr.predict(x_test)"
   ]
  },
  {
   "cell_type": "code",
   "execution_count": null,
   "metadata": {},
   "outputs": [],
   "source": []
  },
  {
   "cell_type": "code",
   "execution_count": null,
   "metadata": {},
   "outputs": [],
   "source": [
    "from sklearn.metrics import mean_absolute_percentage_error\n",
    "l = mean_absolute_percentage_error(y_test, predictions)\n",
    "print('Mean Absolute Percentage Error is:', l )\n",
    "print('MAE:', metrics.mean_absolute_error(y_test, predictions))\n",
    "print('MSE:', metrics.mean_squared_error(y_test, predictions))\n",
    "print('RMSE:', np.sqrt(metrics.mean_squared_error(y_test, predictions)))"
   ]
  },
  {
   "cell_type": "code",
   "execution_count": null,
   "metadata": {
    "scrolled": false
   },
   "outputs": [],
   "source": [
    "sns.distplot((y_test-predictions),bins=20);"
   ]
  },
  {
   "cell_type": "code",
   "execution_count": null,
   "metadata": {
    "scrolled": true
   },
   "outputs": [],
   "source": [
    "plt.scatter(y_test,predictions)"
   ]
  },
  {
   "cell_type": "code",
   "execution_count": null,
   "metadata": {},
   "outputs": [],
   "source": [
    "predictions = gbr.predict(x_test)"
   ]
  },
  {
   "cell_type": "code",
   "execution_count": null,
   "metadata": {},
   "outputs": [],
   "source": [
    "from sklearn.metrics import mean_absolute_percentage_error\n",
    "l = mean_absolute_percentage_error(y_test, predictions)\n",
    "print('Mean Absolute Percentage Error is:', l )\n",
    "print('MAE:', metrics.mean_absolute_error(y_test, predictions))\n",
    "print('MSE:', metrics.mean_squared_error(y_test, predictions))\n",
    "print('RMSE:', np.sqrt(metrics.mean_squared_error(y_test, predictions)))"
   ]
  },
  {
   "cell_type": "code",
   "execution_count": null,
   "metadata": {
    "scrolled": true
   },
   "outputs": [],
   "source": [
    "plt.scatter(y_test,predictions)"
   ]
  },
  {
   "cell_type": "code",
   "execution_count": null,
   "metadata": {
    "scrolled": true
   },
   "outputs": [],
   "source": [
    "sns.distplot((y_test-predictions),bins=20);"
   ]
  },
  {
   "cell_type": "code",
   "execution_count": null,
   "metadata": {},
   "outputs": [],
   "source": []
  },
  {
   "cell_type": "code",
   "execution_count": null,
   "metadata": {},
   "outputs": [],
   "source": [
    "print('MAE:', metrics.mean_absolute_error(y_test, predictions))\n",
    "print('MSE:', metrics.mean_squared_error(y_test, predictions))\n",
    "print('RMSE:', np.sqrt(metrics.mean_squared_error(y_test, predictions)))"
   ]
  },
  {
   "cell_type": "code",
   "execution_count": null,
   "metadata": {},
   "outputs": [],
   "source": [
    "from sklearn.metrics import mean_absolute_percentage_error\n",
    "l = mean_absolute_percentage_error(y_test, predictions)\n",
    "print(l)"
   ]
  },
  {
   "cell_type": "code",
   "execution_count": null,
   "metadata": {
    "scrolled": false
   },
   "outputs": [],
   "source": [
    "sns.distplot((y_test-predictions),bins=20);"
   ]
  },
  {
   "cell_type": "code",
   "execution_count": null,
   "metadata": {},
   "outputs": [],
   "source": []
  },
  {
   "cell_type": "code",
   "execution_count": null,
   "metadata": {},
   "outputs": [],
   "source": [
    "predictions = knn.predict(x_test)"
   ]
  },
  {
   "cell_type": "code",
   "execution_count": null,
   "metadata": {},
   "outputs": [],
   "source": [
    "plt.scatter(y_test,predictions)"
   ]
  },
  {
   "cell_type": "code",
   "execution_count": null,
   "metadata": {},
   "outputs": [],
   "source": [
    "from sklearn.metrics import mean_absolute_percentage_error\n",
    "l = mean_absolute_percentage_error(y_test, predictions)\n",
    "print('Mean Absolute Percentage Error is:', l )\n",
    "print('MAE:', metrics.mean_absolute_error(y_test, predictions))\n",
    "print('MSE:', metrics.mean_squared_error(y_test, predictions))\n",
    "print('RMSE:', np.sqrt(metrics.mean_squared_error(y_test, predictions)))"
   ]
  },
  {
   "cell_type": "code",
   "execution_count": null,
   "metadata": {
    "scrolled": true
   },
   "outputs": [],
   "source": [
    "sns.distplot((y_test-predictions),bins=20);"
   ]
  },
  {
   "cell_type": "code",
   "execution_count": null,
   "metadata": {},
   "outputs": [],
   "source": []
  },
  {
   "cell_type": "code",
   "execution_count": null,
   "metadata": {},
   "outputs": [],
   "source": [
    "predictions = dt.predict(x_test)"
   ]
  },
  {
   "cell_type": "code",
   "execution_count": null,
   "metadata": {},
   "outputs": [],
   "source": [
    "plt.scatter(y_test,predictions)"
   ]
  },
  {
   "cell_type": "code",
   "execution_count": null,
   "metadata": {},
   "outputs": [],
   "source": [
    "print('MAE:', metrics.mean_absolute_error(y_test, predictions))\n",
    "print('MSE:', metrics.mean_squared_error(y_test, predictions))\n",
    "print('RMSE:', np.sqrt(metrics.mean_squared_error(y_test, predictions)))"
   ]
  },
  {
   "cell_type": "code",
   "execution_count": null,
   "metadata": {},
   "outputs": [],
   "source": [
    "from sklearn.metrics import mean_absolute_percentage_error\n",
    "l = mean_absolute_percentage_error(y_test, predictions)\n",
    "print(l)"
   ]
  },
  {
   "cell_type": "code",
   "execution_count": null,
   "metadata": {
    "scrolled": false
   },
   "outputs": [],
   "source": [
    "sns.distplot((y_test-predictions),bins=20);"
   ]
  },
  {
   "cell_type": "code",
   "execution_count": null,
   "metadata": {},
   "outputs": [],
   "source": []
  },
  {
   "cell_type": "code",
   "execution_count": null,
   "metadata": {},
   "outputs": [],
   "source": [
    "predictions = rf.predict(x_test)"
   ]
  },
  {
   "cell_type": "code",
   "execution_count": null,
   "metadata": {},
   "outputs": [],
   "source": [
    "plt.scatter(y_test,predictions)"
   ]
  },
  {
   "cell_type": "code",
   "execution_count": null,
   "metadata": {},
   "outputs": [],
   "source": [
    "from sklearn.metrics import mean_absolute_percentage_error\n",
    "l = mean_absolute_percentage_error(y_test, predictions)\n",
    "print('Mean Absolute Percentage Error is:', l )\n",
    "print('MAE:', metrics.mean_absolute_error(y_test, predictions))\n",
    "print('MSE:', metrics.mean_squared_error(y_test, predictions))\n",
    "print('RMSE:', np.sqrt(metrics.mean_squared_error(y_test, predictions)))"
   ]
  },
  {
   "cell_type": "code",
   "execution_count": null,
   "metadata": {
    "scrolled": true
   },
   "outputs": [],
   "source": [
    "sns.distplot((y_test-predictions),bins=20);"
   ]
  },
  {
   "cell_type": "code",
   "execution_count": null,
   "metadata": {},
   "outputs": [],
   "source": [
    "from sklearn.metrics import mean_absolute_error\n",
    "\n",
    "\n",
    "mape = mean_absolute_error(y_test, predictions)*100\n",
    "print(mape)"
   ]
  },
  {
   "cell_type": "code",
   "execution_count": null,
   "metadata": {},
   "outputs": [],
   "source": [
    "from sklearn.metrics import mean_absolute_percentage_error\n",
    "l = mean_absolute_percentage_error(y_test, predictions)\n",
    "print(l)"
   ]
  },
  {
   "cell_type": "code",
   "execution_count": null,
   "metadata": {},
   "outputs": [],
   "source": []
  },
  {
   "cell_type": "code",
   "execution_count": null,
   "metadata": {},
   "outputs": [],
   "source": [
    "predictions = ada.predict(x_test)"
   ]
  },
  {
   "cell_type": "code",
   "execution_count": null,
   "metadata": {
    "scrolled": true
   },
   "outputs": [],
   "source": [
    "plt.scatter(y_test,predictions)"
   ]
  },
  {
   "cell_type": "code",
   "execution_count": null,
   "metadata": {},
   "outputs": [],
   "source": [
    "from sklearn.metrics import mean_absolute_percentage_error\n",
    "l = mean_absolute_percentage_error(y_test, predictions)\n",
    "print('Mean Absolute Percentage Error is:', l )\n",
    "print('MAE:', metrics.mean_absolute_error(y_test, predictions))\n",
    "print('MSE:', metrics.mean_squared_error(y_test, predictions))\n",
    "print('RMSE:', np.sqrt(metrics.mean_squared_error(y_test, predictions)))"
   ]
  },
  {
   "cell_type": "code",
   "execution_count": null,
   "metadata": {
    "scrolled": false
   },
   "outputs": [],
   "source": [
    "sns.distplot((y_test-predictions),bins=20);"
   ]
  },
  {
   "cell_type": "markdown",
   "metadata": {},
   "source": []
  },
  {
   "cell_type": "markdown",
   "metadata": {},
   "source": [
    "# Scientific resources:\n",
    "\n",
    "\n",
    "- Coursera Astronomy Data Driven Course From The University of Sydeny: \n",
    "#### https://www.coursera.org/learn/data-driven-astronomy/home/welcome\n",
    "\n",
    "\n",
    "- Hertzsprung-Russell Diagram:\n",
    "#### https://astronomy.swin.edu.au/cosmos/h/hertzsprung-russell+diagram\n",
    "\n",
    "\n",
    "- Star Mass:\n",
    "#### https://www.researchgate.net/figure/Mass-radius-relation-for-Kepler-red-giants-with-RGB-stars-in-blue-and-clump-stars-in_fig6_257882348\n",
    "\n",
    "\n",
    "- Black Hole propertries: \n",
    "#### https://public.nrao.edu/ask/properties-of-stars-which-result-in-black-holes/\n",
    "#### https://public.nrao.edu/ask/what-is-the-critical-mass-at-which-a-star-becomes-a-black-hole/\n",
    "\n",
    "\n",
    "- PRINCIPLES OF STELLAR STRUCTURE (OHIO State University)\n",
    "#### http://www.astronomy.ohio-state.edu/~dhw/Intro/lec6.html\n",
    "#### http://www.astronomy.ohio-state.edu/~pogge/Ast162/Unit2/structure.html\n",
    "\n",
    "\n",
    "- Finding Our Sun From Amag: \n",
    "#### https://arxiv.org/abs/1804.07788 \n",
    "\n",
    "\n",
    "- Blackbody Radiation and Quantization of Energy fot Luminosity and B-V:\n",
    "#### https://web.njit.edu/~gary/321/Lecture2.html\n",
    "\n",
    "\n",
    "- Finding Temperature and Spectral Type Based on Ballesteros equation: \n",
    "#### http://astro.physics.uiowa.edu/ITU/labs/professional-labs/photometry-of-a-globular/part-2-finding-temperature.html\n",
    "\n",
    "\n",
    "- Calculating the Radius of a Star:\n",
    "#### https://cas.sdss.org/dr4/en/proj/advanced/hr/radius1.asp\n",
    "\n",
    "\n",
    "- Brightest Stars: Luminosity & Magnitude:\n",
    "#### https://www.space.com/21640-star-luminosity-and-magnitude.html\n",
    "\n",
    "\n",
    "- Distance Parallax equation:\n",
    "#### http://astronomyonline.org/Science/Parallax.asp \n",
    "\n",
    "\n"
   ]
  },
  {
   "cell_type": "code",
   "execution_count": null,
   "metadata": {},
   "outputs": [],
   "source": [
    "df"
   ]
  },
  {
   "cell_type": "code",
   "execution_count": null,
   "metadata": {},
   "outputs": [],
   "source": [
    "df.to_csv('Detection2.csv', index=False)"
   ]
  },
  {
   "cell_type": "code",
   "execution_count": null,
   "metadata": {},
   "outputs": [],
   "source": []
  },
  {
   "cell_type": "code",
   "execution_count": null,
   "metadata": {},
   "outputs": [],
   "source": []
  },
  {
   "cell_type": "code",
   "execution_count": null,
   "metadata": {},
   "outputs": [],
   "source": []
  },
  {
   "cell_type": "code",
   "execution_count": null,
   "metadata": {},
   "outputs": [],
   "source": []
  },
  {
   "cell_type": "code",
   "execution_count": null,
   "metadata": {},
   "outputs": [],
   "source": []
  },
  {
   "cell_type": "code",
   "execution_count": null,
   "metadata": {},
   "outputs": [],
   "source": []
  },
  {
   "cell_type": "code",
   "execution_count": null,
   "metadata": {},
   "outputs": [],
   "source": []
  },
  {
   "cell_type": "code",
   "execution_count": null,
   "metadata": {},
   "outputs": [],
   "source": []
  },
  {
   "cell_type": "code",
   "execution_count": null,
   "metadata": {},
   "outputs": [],
   "source": []
  },
  {
   "cell_type": "code",
   "execution_count": null,
   "metadata": {},
   "outputs": [],
   "source": []
  },
  {
   "cell_type": "code",
   "execution_count": null,
   "metadata": {},
   "outputs": [],
   "source": []
  },
  {
   "cell_type": "code",
   "execution_count": null,
   "metadata": {},
   "outputs": [],
   "source": []
  },
  {
   "cell_type": "code",
   "execution_count": null,
   "metadata": {},
   "outputs": [],
   "source": []
  },
  {
   "cell_type": "code",
   "execution_count": null,
   "metadata": {},
   "outputs": [],
   "source": []
  },
  {
   "cell_type": "code",
   "execution_count": null,
   "metadata": {},
   "outputs": [],
   "source": []
  }
 ],
 "metadata": {
  "kernelspec": {
   "display_name": "Python 3",
   "language": "python",
   "name": "python3"
  },
  "language_info": {
   "codemirror_mode": {
    "name": "ipython",
    "version": 3
   },
   "file_extension": ".py",
   "mimetype": "text/x-python",
   "name": "python",
   "nbconvert_exporter": "python",
   "pygments_lexer": "ipython3",
   "version": "3.8.5"
  }
 },
 "nbformat": 4,
 "nbformat_minor": 4
}
